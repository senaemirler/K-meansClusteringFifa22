{
 "cells": [
  {
   "cell_type": "code",
   "execution_count": 3,
   "id": "e2796e5f",
   "metadata": {},
   "outputs": [],
   "source": [
    "import pandas as pd\n",
    "import numpy as np"
   ]
  },
  {
   "cell_type": "code",
   "execution_count": 4,
   "id": "69c6481f",
   "metadata": {},
   "outputs": [
    {
     "name": "stderr",
     "output_type": "stream",
     "text": [
      "/var/folders/0k/57ldq89525g4jv49x_2gfg400000gn/T/ipykernel_1292/2412648025.py:1: DtypeWarning: Columns (25,108) have mixed types. Specify dtype option on import or set low_memory=False.\n",
      "  players = pd.read_csv(\"players_22.csv\")\n"
     ]
    }
   ],
   "source": [
    "players = pd.read_csv(\"players_22.csv\")\n"
   ]
  },
  {
   "cell_type": "code",
   "execution_count": 5,
   "id": "8b799ff8",
   "metadata": {},
   "outputs": [],
   "source": [
    "features = [\"overall\", \"potential\", \"wage_eur\", \"value_eur\", \"age\"]"
   ]
  },
  {
   "cell_type": "code",
   "execution_count": 6,
   "id": "459b8212",
   "metadata": {},
   "outputs": [],
   "source": [
    "players = players.dropna(subset=features)"
   ]
  },
  {
   "cell_type": "code",
   "execution_count": 7,
   "id": "38e1c7cd",
   "metadata": {},
   "outputs": [],
   "source": [
    "#players data set have many unwanted coulmns so we create new df to use \n",
    "data = players[features].copy()\n"
   ]
  },
  {
   "cell_type": "code",
   "execution_count": 8,
   "id": "b3056a1e",
   "metadata": {},
   "outputs": [],
   "source": [
    "#scaling data 1-10\n",
    "\n",
    "data= (data- data.min()) / (data.max()-data.min())*9 +1"
   ]
  },
  {
   "cell_type": "code",
   "execution_count": 10,
   "id": "b30800e9",
   "metadata": {},
   "outputs": [
    {
     "data": {
      "text/html": [
       "<div>\n",
       "<style scoped>\n",
       "    .dataframe tbody tr th:only-of-type {\n",
       "        vertical-align: middle;\n",
       "    }\n",
       "\n",
       "    .dataframe tbody tr th {\n",
       "        vertical-align: top;\n",
       "    }\n",
       "\n",
       "    .dataframe thead th {\n",
       "        text-align: right;\n",
       "    }\n",
       "</style>\n",
       "<table border=\"1\" class=\"dataframe\">\n",
       "  <thead>\n",
       "    <tr style=\"text-align: right;\">\n",
       "      <th></th>\n",
       "      <th>overall</th>\n",
       "      <th>potential</th>\n",
       "      <th>wage_eur</th>\n",
       "      <th>value_eur</th>\n",
       "      <th>age</th>\n",
       "    </tr>\n",
       "  </thead>\n",
       "  <tbody>\n",
       "    <tr>\n",
       "      <th>count</th>\n",
       "      <td>19165.000000</td>\n",
       "      <td>19165.000000</td>\n",
       "      <td>19165.000000</td>\n",
       "      <td>19165.000000</td>\n",
       "      <td>19165.000000</td>\n",
       "    </tr>\n",
       "    <tr>\n",
       "      <th>mean</th>\n",
       "      <td>4.670472</td>\n",
       "      <td>5.319998</td>\n",
       "      <td>1.219443</td>\n",
       "      <td>1.131826</td>\n",
       "      <td>4.063345</td>\n",
       "    </tr>\n",
       "    <tr>\n",
       "      <th>std</th>\n",
       "      <td>1.346635</td>\n",
       "      <td>1.191076</td>\n",
       "      <td>0.501528</td>\n",
       "      <td>0.353229</td>\n",
       "      <td>1.575838</td>\n",
       "    </tr>\n",
       "    <tr>\n",
       "      <th>min</th>\n",
       "      <td>1.000000</td>\n",
       "      <td>1.000000</td>\n",
       "      <td>1.000000</td>\n",
       "      <td>1.000000</td>\n",
       "      <td>1.000000</td>\n",
       "    </tr>\n",
       "    <tr>\n",
       "      <th>25%</th>\n",
       "      <td>3.739130</td>\n",
       "      <td>4.521739</td>\n",
       "      <td>1.012876</td>\n",
       "      <td>1.021620</td>\n",
       "      <td>2.666667</td>\n",
       "    </tr>\n",
       "    <tr>\n",
       "      <th>50%</th>\n",
       "      <td>4.717391</td>\n",
       "      <td>5.304348</td>\n",
       "      <td>1.064378</td>\n",
       "      <td>1.044817</td>\n",
       "      <td>4.000000</td>\n",
       "    </tr>\n",
       "    <tr>\n",
       "      <th>75%</th>\n",
       "      <td>5.500000</td>\n",
       "      <td>6.086957</td>\n",
       "      <td>1.193133</td>\n",
       "      <td>1.092370</td>\n",
       "      <td>5.333333</td>\n",
       "    </tr>\n",
       "    <tr>\n",
       "      <th>max</th>\n",
       "      <td>10.000000</td>\n",
       "      <td>10.000000</td>\n",
       "      <td>10.000000</td>\n",
       "      <td>10.000000</td>\n",
       "      <td>10.000000</td>\n",
       "    </tr>\n",
       "  </tbody>\n",
       "</table>\n",
       "</div>"
      ],
      "text/plain": [
       "            overall     potential      wage_eur     value_eur           age\n",
       "count  19165.000000  19165.000000  19165.000000  19165.000000  19165.000000\n",
       "mean       4.670472      5.319998      1.219443      1.131826      4.063345\n",
       "std        1.346635      1.191076      0.501528      0.353229      1.575838\n",
       "min        1.000000      1.000000      1.000000      1.000000      1.000000\n",
       "25%        3.739130      4.521739      1.012876      1.021620      2.666667\n",
       "50%        4.717391      5.304348      1.064378      1.044817      4.000000\n",
       "75%        5.500000      6.086957      1.193133      1.092370      5.333333\n",
       "max       10.000000     10.000000     10.000000     10.000000     10.000000"
      ]
     },
     "execution_count": 10,
     "metadata": {},
     "output_type": "execute_result"
    }
   ],
   "source": [
    "data.describe()"
   ]
  },
  {
   "cell_type": "code",
   "execution_count": 59,
   "id": "5a6ea237",
   "metadata": {},
   "outputs": [],
   "source": [
    "def random_centroids(data, k):\n",
    "    centroids = []\n",
    "    for i in range(k):\n",
    "        centroid = data.apply(lambda x: float(x.sample()))\n",
    "        centroids.append(centroid)\n",
    "    return pd.concat(centroids, axis=1)"
   ]
  },
  {
   "cell_type": "code",
   "execution_count": 60,
   "id": "a5cbc3a3",
   "metadata": {},
   "outputs": [],
   "source": [
    "centroids= random_centroids(data, 5)"
   ]
  },
  {
   "cell_type": "code",
   "execution_count": 61,
   "id": "b6137394",
   "metadata": {},
   "outputs": [
    {
     "data": {
      "text/html": [
       "<div>\n",
       "<style scoped>\n",
       "    .dataframe tbody tr th:only-of-type {\n",
       "        vertical-align: middle;\n",
       "    }\n",
       "\n",
       "    .dataframe tbody tr th {\n",
       "        vertical-align: top;\n",
       "    }\n",
       "\n",
       "    .dataframe thead th {\n",
       "        text-align: right;\n",
       "    }\n",
       "</style>\n",
       "<table border=\"1\" class=\"dataframe\">\n",
       "  <thead>\n",
       "    <tr style=\"text-align: right;\">\n",
       "      <th></th>\n",
       "      <th>0</th>\n",
       "      <th>1</th>\n",
       "      <th>2</th>\n",
       "      <th>3</th>\n",
       "      <th>4</th>\n",
       "    </tr>\n",
       "  </thead>\n",
       "  <tbody>\n",
       "    <tr>\n",
       "      <th>overall</th>\n",
       "      <td>6.086957</td>\n",
       "      <td>2.760870</td>\n",
       "      <td>4.130435</td>\n",
       "      <td>3.934783</td>\n",
       "      <td>6.086957</td>\n",
       "    </tr>\n",
       "    <tr>\n",
       "      <th>potential</th>\n",
       "      <td>6.478261</td>\n",
       "      <td>5.695652</td>\n",
       "      <td>3.739130</td>\n",
       "      <td>4.521739</td>\n",
       "      <td>5.304348</td>\n",
       "    </tr>\n",
       "    <tr>\n",
       "      <th>wage_eur</th>\n",
       "      <td>1.038627</td>\n",
       "      <td>3.072961</td>\n",
       "      <td>1.038627</td>\n",
       "      <td>1.005150</td>\n",
       "      <td>1.038627</td>\n",
       "    </tr>\n",
       "    <tr>\n",
       "      <th>value_eur</th>\n",
       "      <td>1.124846</td>\n",
       "      <td>1.009789</td>\n",
       "      <td>1.064534</td>\n",
       "      <td>1.042497</td>\n",
       "      <td>1.166601</td>\n",
       "    </tr>\n",
       "    <tr>\n",
       "      <th>age</th>\n",
       "      <td>4.000000</td>\n",
       "      <td>5.333333</td>\n",
       "      <td>2.333333</td>\n",
       "      <td>5.000000</td>\n",
       "      <td>5.666667</td>\n",
       "    </tr>\n",
       "  </tbody>\n",
       "</table>\n",
       "</div>"
      ],
      "text/plain": [
       "                  0         1         2         3         4\n",
       "overall    6.086957  2.760870  4.130435  3.934783  6.086957\n",
       "potential  6.478261  5.695652  3.739130  4.521739  5.304348\n",
       "wage_eur   1.038627  3.072961  1.038627  1.005150  1.038627\n",
       "value_eur  1.124846  1.009789  1.064534  1.042497  1.166601\n",
       "age        4.000000  5.333333  2.333333  5.000000  5.666667"
      ]
     },
     "execution_count": 61,
     "metadata": {},
     "output_type": "execute_result"
    }
   ],
   "source": [
    "centroids"
   ]
  },
  {
   "cell_type": "code",
   "execution_count": 62,
   "id": "2376b1b1",
   "metadata": {},
   "outputs": [],
   "source": [
    "def get_labels(data, centroids):\n",
    "    distances = centroids.apply(lambda x: np.sqrt(((data - x) ** 2).sum(axis=1)))\n",
    "    return distances.idxmin(axis=1)\n"
   ]
  },
  {
   "cell_type": "code",
   "execution_count": 63,
   "id": "5536a777",
   "metadata": {},
   "outputs": [],
   "source": [
    "labels= get_labels(data, centroids)"
   ]
  },
  {
   "cell_type": "code",
   "execution_count": 64,
   "id": "e9d93901",
   "metadata": {},
   "outputs": [
    {
     "data": {
      "text/plain": [
       "0    5367\n",
       "3    5138\n",
       "2    5114\n",
       "4    3545\n",
       "1       1\n",
       "dtype: int64"
      ]
     },
     "execution_count": 64,
     "metadata": {},
     "output_type": "execute_result"
    }
   ],
   "source": [
    "labels.value_counts()"
   ]
  },
  {
   "cell_type": "code",
   "execution_count": 65,
   "id": "ac6dd69a",
   "metadata": {},
   "outputs": [],
   "source": [
    "def new_centroids(data, labels, k):\n",
    "    centroids = data.groupby(labels).apply(lambda x: np.exp(np.log(x).mean())).T\n",
    "    return centroids"
   ]
  },
  {
   "cell_type": "code",
   "execution_count": 66,
   "id": "882ba251",
   "metadata": {},
   "outputs": [],
   "source": [
    "from sklearn.decomposition import PCA\n",
    "import matplotlib.pyplot as plt\n",
    "from IPython.display import clear_output"
   ]
  },
  {
   "cell_type": "code",
   "execution_count": 67,
   "id": "85ca72f8",
   "metadata": {},
   "outputs": [],
   "source": [
    "def plot_clusters(data, labels, centroids, iteration):\n",
    "    pca = PCA(n_components=2)\n",
    "    data_2d = pca.fit_transform(data)\n",
    "    centroids_2d = pca.transform(centroids.T)\n",
    "    clear_output(wait=True)\n",
    "    plt.title(f'Iteration {iteration}')\n",
    "    plt.scatter(x=data_2d[:,0], y=data_2d[:,1], c=labels)\n",
    "    plt.scatter(x=centroids_2d[:,0], y=centroids_2d[:,1])\n",
    "    plt.show()\n",
    "\n"
   ]
  },
  {
   "cell_type": "code",
   "execution_count": 83,
   "id": "69101a3d",
   "metadata": {},
   "outputs": [
    {
     "data": {
      "image/png": "[encoded data removed]",
      "text/plain": [
       "<Figure size 640x480 with 1 Axes>"
      ]
     },
     "metadata": {},
     "output_type": "display_data"
    }
   ],
   "source": [
    "max_iterations = 100\n",
    "centroid_count = 3\n",
    "\n",
    "centroids = random_centroids(data, centroid_count)\n",
    "old_centroids = pd.DataFrame()\n",
    "iteration = 1\n",
    "\n",
    "while iteration < max_iterations and not centroids.equals(old_centroids):\n",
    "    old_centroids = centroids\n",
    "    \n",
    "    labels = get_labels(data, centroids)\n",
    "    centroids = new_centroids(data, labels, centroid_count)\n",
    "    plot_clusters(data, labels, centroids, iteration)\n",
    "    iteration += 1"
   ]
  },
  {
   "cell_type": "markdown",
   "id": "8361f719",
   "metadata": {},
   "source": []
  },
  {
   "cell_type": "code",
   "execution_count": 70,
   "id": "dfebbb47",
   "metadata": {},
   "outputs": [
    {
     "data": {
      "text/html": [
       "<div>\n",
       "<style scoped>\n",
       "    .dataframe tbody tr th:only-of-type {\n",
       "        vertical-align: middle;\n",
       "    }\n",
       "\n",
       "    .dataframe tbody tr th {\n",
       "        vertical-align: top;\n",
       "    }\n",
       "\n",
       "    .dataframe thead th {\n",
       "        text-align: right;\n",
       "    }\n",
       "</style>\n",
       "<table border=\"1\" class=\"dataframe\">\n",
       "  <thead>\n",
       "    <tr style=\"text-align: right;\">\n",
       "      <th></th>\n",
       "      <th>short_name</th>\n",
       "      <th>overall</th>\n",
       "      <th>potential</th>\n",
       "      <th>wage_eur</th>\n",
       "      <th>value_eur</th>\n",
       "      <th>age</th>\n",
       "    </tr>\n",
       "  </thead>\n",
       "  <tbody>\n",
       "    <tr>\n",
       "      <th>0</th>\n",
       "      <td>L. Messi</td>\n",
       "      <td>93</td>\n",
       "      <td>93</td>\n",
       "      <td>320000.0</td>\n",
       "      <td>78000000.0</td>\n",
       "      <td>34</td>\n",
       "    </tr>\n",
       "    <tr>\n",
       "      <th>1</th>\n",
       "      <td>R. Lewandowski</td>\n",
       "      <td>92</td>\n",
       "      <td>92</td>\n",
       "      <td>270000.0</td>\n",
       "      <td>119500000.0</td>\n",
       "      <td>32</td>\n",
       "    </tr>\n",
       "    <tr>\n",
       "      <th>2</th>\n",
       "      <td>Cristiano Ronaldo</td>\n",
       "      <td>91</td>\n",
       "      <td>91</td>\n",
       "      <td>270000.0</td>\n",
       "      <td>45000000.0</td>\n",
       "      <td>36</td>\n",
       "    </tr>\n",
       "    <tr>\n",
       "      <th>3</th>\n",
       "      <td>Neymar Jr</td>\n",
       "      <td>91</td>\n",
       "      <td>91</td>\n",
       "      <td>270000.0</td>\n",
       "      <td>129000000.0</td>\n",
       "      <td>29</td>\n",
       "    </tr>\n",
       "    <tr>\n",
       "      <th>4</th>\n",
       "      <td>K. De Bruyne</td>\n",
       "      <td>91</td>\n",
       "      <td>91</td>\n",
       "      <td>350000.0</td>\n",
       "      <td>125500000.0</td>\n",
       "      <td>30</td>\n",
       "    </tr>\n",
       "    <tr>\n",
       "      <th>...</th>\n",
       "      <td>...</td>\n",
       "      <td>...</td>\n",
       "      <td>...</td>\n",
       "      <td>...</td>\n",
       "      <td>...</td>\n",
       "      <td>...</td>\n",
       "    </tr>\n",
       "    <tr>\n",
       "      <th>13245</th>\n",
       "      <td>D. Scarlett</td>\n",
       "      <td>63</td>\n",
       "      <td>86</td>\n",
       "      <td>3000.0</td>\n",
       "      <td>1500000.0</td>\n",
       "      <td>17</td>\n",
       "    </tr>\n",
       "    <tr>\n",
       "      <th>13256</th>\n",
       "      <td>L. Bate</td>\n",
       "      <td>63</td>\n",
       "      <td>83</td>\n",
       "      <td>5000.0</td>\n",
       "      <td>1300000.0</td>\n",
       "      <td>18</td>\n",
       "    </tr>\n",
       "    <tr>\n",
       "      <th>13351</th>\n",
       "      <td>Llabrés</td>\n",
       "      <td>63</td>\n",
       "      <td>81</td>\n",
       "      <td>3000.0</td>\n",
       "      <td>1200000.0</td>\n",
       "      <td>19</td>\n",
       "    </tr>\n",
       "    <tr>\n",
       "      <th>14144</th>\n",
       "      <td>H. Mejbri</td>\n",
       "      <td>62</td>\n",
       "      <td>84</td>\n",
       "      <td>6000.0</td>\n",
       "      <td>1300000.0</td>\n",
       "      <td>18</td>\n",
       "    </tr>\n",
       "    <tr>\n",
       "      <th>14349</th>\n",
       "      <td>R. Lavia</td>\n",
       "      <td>62</td>\n",
       "      <td>85</td>\n",
       "      <td>700.0</td>\n",
       "      <td>1200000.0</td>\n",
       "      <td>17</td>\n",
       "    </tr>\n",
       "  </tbody>\n",
       "</table>\n",
       "<p>5765 rows × 6 columns</p>\n",
       "</div>"
      ],
      "text/plain": [
       "              short_name  overall  potential  wage_eur    value_eur  age\n",
       "0               L. Messi       93         93  320000.0   78000000.0   34\n",
       "1         R. Lewandowski       92         92  270000.0  119500000.0   32\n",
       "2      Cristiano Ronaldo       91         91  270000.0   45000000.0   36\n",
       "3              Neymar Jr       91         91  270000.0  129000000.0   29\n",
       "4           K. De Bruyne       91         91  350000.0  125500000.0   30\n",
       "...                  ...      ...        ...       ...          ...  ...\n",
       "13245        D. Scarlett       63         86    3000.0    1500000.0   17\n",
       "13256            L. Bate       63         83    5000.0    1300000.0   18\n",
       "13351            Llabrés       63         81    3000.0    1200000.0   19\n",
       "14144          H. Mejbri       62         84    6000.0    1300000.0   18\n",
       "14349           R. Lavia       62         85     700.0    1200000.0   17\n",
       "\n",
       "[5765 rows x 6 columns]"
      ]
     },
     "execution_count": 70,
     "metadata": {},
     "output_type": "execute_result"
    }
   ],
   "source": [
    "players[labels == 0][[\"short_name\"] + features]\n"
   ]
  },
  {
   "cell_type": "code",
   "execution_count": 71,
   "id": "ad59a88c",
   "metadata": {},
   "outputs": [],
   "source": [
    "from sklearn.cluster import KMeans\n"
   ]
  },
  {
   "cell_type": "code",
   "execution_count": 72,
   "id": "445f81be",
   "metadata": {},
   "outputs": [
    {
     "data": {
      "text/plain": [
       "KMeans(n_clusters=3)"
      ]
     },
     "execution_count": 72,
     "metadata": {},
     "output_type": "execute_result"
    }
   ],
   "source": [
    "kmeans = KMeans(3)\n",
    "kmeans.fit(data)"
   ]
  },
  {
   "cell_type": "code",
   "execution_count": 73,
   "id": "6df5d816",
   "metadata": {},
   "outputs": [
    {
     "data": {
      "text/html": [
       "<div>\n",
       "<style scoped>\n",
       "    .dataframe tbody tr th:only-of-type {\n",
       "        vertical-align: middle;\n",
       "    }\n",
       "\n",
       "    .dataframe tbody tr th {\n",
       "        vertical-align: top;\n",
       "    }\n",
       "\n",
       "    .dataframe thead th {\n",
       "        text-align: right;\n",
       "    }\n",
       "</style>\n",
       "<table border=\"1\" class=\"dataframe\">\n",
       "  <thead>\n",
       "    <tr style=\"text-align: right;\">\n",
       "      <th></th>\n",
       "      <th>0</th>\n",
       "      <th>1</th>\n",
       "      <th>2</th>\n",
       "    </tr>\n",
       "  </thead>\n",
       "  <tbody>\n",
       "    <tr>\n",
       "      <th>overall</th>\n",
       "      <td>6.231096</td>\n",
       "      <td>3.599859</td>\n",
       "      <td>4.800991</td>\n",
       "    </tr>\n",
       "    <tr>\n",
       "      <th>potential</th>\n",
       "      <td>6.623746</td>\n",
       "      <td>5.205869</td>\n",
       "      <td>4.503972</td>\n",
       "    </tr>\n",
       "    <tr>\n",
       "      <th>wage_eur</th>\n",
       "      <td>1.657093</td>\n",
       "      <td>1.039947</td>\n",
       "      <td>1.112902</td>\n",
       "    </tr>\n",
       "    <tr>\n",
       "      <th>value_eur</th>\n",
       "      <td>1.413686</td>\n",
       "      <td>1.035792</td>\n",
       "      <td>1.040011</td>\n",
       "    </tr>\n",
       "    <tr>\n",
       "      <th>age</th>\n",
       "      <td>4.139879</td>\n",
       "      <td>2.712386</td>\n",
       "      <td>5.609167</td>\n",
       "    </tr>\n",
       "  </tbody>\n",
       "</table>\n",
       "</div>"
      ],
      "text/plain": [
       "                  0         1         2\n",
       "overall    6.231096  3.599859  4.800991\n",
       "potential  6.623746  5.205869  4.503972\n",
       "wage_eur   1.657093  1.039947  1.112902\n",
       "value_eur  1.413686  1.035792  1.040011\n",
       "age        4.139879  2.712386  5.609167"
      ]
     },
     "execution_count": 73,
     "metadata": {},
     "output_type": "execute_result"
    }
   ],
   "source": [
    "pd.DataFrame(kmeans.cluster_centers_, columns=features).T\n"
   ]
  },
  {
   "cell_type": "code",
   "execution_count": null,
   "id": "a1474be7",
   "metadata": {},
   "outputs": [],
   "source": []
  }
 ],
 "metadata": {
  "kernelspec": {
   "display_name": "Python 3 (ipykernel)",
   "language": "python",
   "name": "python3"
  },
  "language_info": {
   "codemirror_mode": {
    "name": "ipython",
    "version": 3
   },
   "file_extension": ".py",
   "mimetype": "text/x-python",
   "name": "python",
   "nbconvert_exporter": "python",
   "pygments_lexer": "ipython3",
   "version": "3.9.13"
  }
 },
 "nbformat": 4,
 "nbformat_minor": 5
}
